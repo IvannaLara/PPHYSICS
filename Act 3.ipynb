{
 "cells": [
  {
   "cell_type": "code",
   "execution_count": 16,
   "id": "7b56d783-1471-47f0-9154-6fc7371458cd",
   "metadata": {},
   "outputs": [
    {
     "name": "stdout",
     "output_type": "stream",
     "text": [
      "Estimated Pi: 3.141044\n"
     ]
    }
   ],
   "source": [
    "import random \n",
    "\n",
    "# Definimos cuántos puntos vamos a usar\n",
    "num_samples = 1000000\n",
    "# Contador que empieza en 0 para los puntos dentro del círculo\n",
    "inside_circle = 0\n",
    "\n",
    "# Repetimos el proceso x numero de veces\n",
    "for i in range(num_samples):\n",
    "    # Generamos un número aleatorio para x entre -1 y 1\n",
    "    x = random.uniform(-1,1)\n",
    "    # Generamos otro número aleatorio para y entre -1 y 1\n",
    "    y = random.uniform(-1,1\n",
    "    # Revisamos si el punto (x, y) está dentro del círculo\n",
    "    if x**2 + y**2 <= 1:\n",
    "        inside_circle += 1\n",
    "    \n",
    "# Calculamos Pi con los puntos dentro del círculo\n",
    "pi_estimate = 4 * inside_circle / num_samples\n",
    "print(f\"Estimated Pi: {pi_estimate}\")"
   ]
  },
  {
   "cell_type": "code",
   "execution_count": null,
   "id": "efd53e17-b81b-4187-a2da-071c8ebc0492",
   "metadata": {},
   "outputs": [],
   "source": []
  },
  {
   "cell_type": "code",
   "execution_count": null,
   "id": "8a15899e-68c1-4a5d-a977-031f7d7be971",
   "metadata": {},
   "outputs": [],
   "source": []
  },
  {
   "cell_type": "code",
   "execution_count": null,
   "id": "7a2638aa-8aec-46f4-8b70-00ab1efd3f78",
   "metadata": {},
   "outputs": [],
   "source": []
  },
  {
   "cell_type": "code",
   "execution_count": null,
   "id": "7d88c52b-5ed6-46ed-a477-cba66fbb8a0b",
   "metadata": {},
   "outputs": [],
   "source": []
  },
  {
   "cell_type": "code",
   "execution_count": null,
   "id": "1e2aafb2-9d21-4c95-8a2c-b639b344c359",
   "metadata": {},
   "outputs": [],
   "source": []
  },
  {
   "cell_type": "code",
   "execution_count": null,
   "id": "184a70a1-6e55-43c1-a396-0ba987363079",
   "metadata": {},
   "outputs": [],
   "source": []
  },
  {
   "cell_type": "code",
   "execution_count": null,
   "id": "e69468b2-a120-4610-a23e-5a184ec89655",
   "metadata": {},
   "outputs": [],
   "source": []
  }
 ],
 "metadata": {
  "kernelspec": {
   "display_name": "Python [conda env:base] *",
   "language": "python",
   "name": "conda-base-py"
  },
  "language_info": {
   "codemirror_mode": {
    "name": "ipython",
    "version": 3
   },
   "file_extension": ".py",
   "mimetype": "text/x-python",
   "name": "python",
   "nbconvert_exporter": "python",
   "pygments_lexer": "ipython3",
   "version": "3.12.7"
  }
 },
 "nbformat": 4,
 "nbformat_minor": 5
}
